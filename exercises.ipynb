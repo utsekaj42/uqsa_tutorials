{
 "cells": [
  {
   "cell_type": "markdown",
   "metadata": {},
   "source": [
    "# Exercises\n",
    "\n",
    "We will consider our all purpose model"
   ]
  },
  {
   "cell_type": "markdown",
   "metadata": {},
   "source": [
    "<!-- Equation labels as ordinary links -->\n",
    "<div id=\"_auto1\"></div>\n",
    "\n",
    "$$\n",
    "\\begin{equation} Y = \\sum_i^r \\Omega_i \\; \\mathbf{Z}_i\n",
    " \\tag{1}\n",
    "\\end{equation}\n",
    "$$"
   ]
  },
  {
   "cell_type": "markdown",
   "metadata": {},
   "source": [
    "for the two slightly different cases we have presented previously:\n",
    "\n",
    "**Case 1: Additive**"
   ]
  },
  {
   "cell_type": "markdown",
   "metadata": {},
   "source": [
    "<!-- Equation labels as ordinary links -->\n",
    "<div id=\"_auto2\"></div>\n",
    "\n",
    "$$\n",
    "\\begin{equation}\n",
    "Z_i  \\sim N(0, \\sigma_{Z_i}), \\qquad i=1,2, \\ldots, r \n",
    " \\tag{2}\n",
    "\\end{equation}\n",
    "$$"
   ]
  },
  {
   "cell_type": "markdown",
   "metadata": {},
   "source": [
    "<!-- Equation labels as ordinary links -->\n",
    "<div id=\"_auto3\"></div>\n",
    "\n",
    "$$\n",
    "\\begin{equation}  \n",
    "\\Omega_i = \\textsf{constant} \n",
    " \\tag{3}\n",
    "\\end{equation}\n",
    "$$"
   ]
  },
  {
   "cell_type": "markdown",
   "metadata": {},
   "source": [
    "**Case 2: Non-additive (interaction)**"
   ]
  },
  {
   "cell_type": "markdown",
   "metadata": {},
   "source": [
    "<!-- Equation labels as ordinary links -->\n",
    "<div id=\"_auto4\"></div>\n",
    "\n",
    "$$\n",
    "\\begin{equation}\n",
    "Z_i  \\sim N(0, \\sigma_{Z_i}), \\qquad i=1,2, \\ldots, r \n",
    " \\tag{4}\n",
    "\\end{equation}\n",
    "$$"
   ]
  },
  {
   "cell_type": "markdown",
   "metadata": {},
   "source": [
    "<!-- Equation labels as ordinary links -->\n",
    "<div id=\"_auto5\"></div>\n",
    "\n",
    "$$\n",
    "\\begin{equation}  \n",
    "\\Omega_i  \\sim N(\\mu_{\\Omega_i}, \\sigma_{\\Omega_i})\n",
    " \\tag{5}\n",
    "\\end{equation}\n",
    "$$"
   ]
  },
  {
   "cell_type": "markdown",
   "metadata": {},
   "source": [
    "<!-- --- begin exercise --- -->\n",
    "\n",
    "## Exercise: Sobol indices for an additive model\n",
    "\n",
    "For the additive model represented by Case 1:\n",
    "\n",
    "\n",
    "**a)**\n",
    "Compute the first order Sobol indices analytically:"
   ]
  },
  {
   "cell_type": "markdown",
   "metadata": {},
   "source": [
    "<!-- Equation labels as ordinary links -->\n",
    "<div id=\"exeq:Si\"></div>\n",
    "\n",
    "$$\n",
    "\\begin{equation}\n",
    "S_i = \\frac{\\text{V}_{Z_i}(E_{Z_{\\sim i}} (Y\\;|\\;Z_i))}{\\text{V}(Y)}\n",
    " \\tag{6}\n",
    "\\end{equation}\n",
    "$$"
   ]
  },
  {
   "cell_type": "markdown",
   "metadata": {},
   "source": [
    "**b)**\n",
    "Show that $ \\sum_i \\left( S_{Z_i}^{\\sigma} \\right )^2 = 1$ for Case 1.\n",
    "\n",
    "\n",
    "**c)**\n",
    "Show that $S_{T_i} = S_{Z_i}$ for the additive model, i.e. that the\n",
    "variance of the model output is completely described by the first\n",
    "order indices.\n",
    "\n",
    "\n",
    "\n",
    "<!-- --- end exercise --- -->\n",
    "\n",
    "\n",
    "\n",
    "\n",
    "<!-- --- begin exercise --- -->\n",
    "\n",
    "## Exercise: Sobol indices for a model with interactions\n",
    "\n",
    "\n",
    "**a)**\n",
    "Compute analytically the first order Sobol indices  for the model defined by Case 2.\n",
    "\n",
    "\n",
    "\n",
    "**b)**\n",
    "Compute the second order indices for the interaction model\n",
    "\n",
    "\n",
    "**c)**\n",
    "Show that interaction indices are zero for order 3 and a above for Case 2.\n",
    "\n",
    "\n",
    "\n",
    "**d)**\n",
    "Compute the total sensitivity indices $S_{T_i}$ for Case 2.\n",
    "\n",
    "<!-- --- end exercise --- -->"
   ]
  }
 ],
 "metadata": {},
 "nbformat": 4,
 "nbformat_minor": 1
}
